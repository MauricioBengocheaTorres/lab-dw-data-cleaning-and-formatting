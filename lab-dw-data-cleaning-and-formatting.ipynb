{
  "cells": [
    {
      "cell_type": "markdown",
      "id": "25d7736c-ba17-4aff-b6bb-66eba20fbf4e",
      "metadata": {
        "id": "25d7736c-ba17-4aff-b6bb-66eba20fbf4e"
      },
      "source": [
        "# Lab | Data Cleaning and Formatting"
      ]
    },
    {
      "cell_type": "markdown",
      "id": "d1973e9e-8be6-4039-b70e-d73ee0d94c99",
      "metadata": {
        "id": "d1973e9e-8be6-4039-b70e-d73ee0d94c99"
      },
      "source": [
        "In this lab, we will be working with the customer data from an insurance company, which can be found in the CSV file located at the following link: https://raw.githubusercontent.com/data-bootcamp-v4/data/main/file1.csv\n"
      ]
    },
    {
      "cell_type": "markdown",
      "id": "31b8a9e7-7db9-4604-991b-ef6771603e57",
      "metadata": {
        "id": "31b8a9e7-7db9-4604-991b-ef6771603e57"
      },
      "source": [
        "# Challenge 1: Data Cleaning and Formatting"
      ]
    },
    {
      "cell_type": "markdown",
      "id": "81553f19-9f2c-484b-8940-520aff884022",
      "metadata": {
        "id": "81553f19-9f2c-484b-8940-520aff884022"
      },
      "source": [
        "## Exercise 1: Cleaning Column Names"
      ]
    },
    {
      "cell_type": "markdown",
      "id": "34a929f4-1be4-4fa8-adda-42ffd920be90",
      "metadata": {
        "id": "34a929f4-1be4-4fa8-adda-42ffd920be90"
      },
      "source": [
        "To ensure consistency and ease of use, standardize the column names of the dataframe. Start by taking a first look at the dataframe and identifying any column names that need to be modified. Use appropriate naming conventions and make sure that column names are descriptive and informative.\n",
        "\n",
        "*Hint*:\n",
        "- *Column names should be in lower case*\n",
        "- *White spaces in column names should be replaced by `_`*\n",
        "- *`st` could be replaced for `state`*"
      ]
    },
    {
      "cell_type": "code",
      "execution_count": 48,
      "id": "5810735c-8056-4442-bbf2-dda38d3e284a",
      "metadata": {
        "id": "5810735c-8056-4442-bbf2-dda38d3e284a"
      },
      "outputs": [
        {
          "name": "stdout",
          "output_type": "stream",
          "text": [
            "  Customer          ST GENDER Education Customer Lifetime Value  Income  \\\n",
            "0  RB50392  Washington    NaN    Master                     NaN     0.0   \n",
            "\n",
            "   Monthly Premium Auto Number of Open Complaints    Policy Type  \\\n",
            "0                1000.0                    1/0/00  Personal Auto   \n",
            "\n",
            "   Vehicle Class  Total Claim Amount  \n",
            "0  Four-Door Car            2.704934  \n",
            "  customer          st gender education customer lifetime value  income  \\\n",
            "0  RB50392  Washington    NaN    Master                     NaN     0.0   \n",
            "\n",
            "   monthly premium auto number of open complaints    policy type  \\\n",
            "0                1000.0                    1/0/00  Personal Auto   \n",
            "\n",
            "   vehicle class  total claim amount  \n",
            "0  Four-Door Car            2.704934  \n",
            "  customer          st gender education customer_lifetime_value  income  \\\n",
            "0  RB50392  Washington    NaN    Master                     NaN     0.0   \n",
            "\n",
            "   monthly_premium_auto number_of_open_complaints    policy_type  \\\n",
            "0                1000.0                    1/0/00  Personal Auto   \n",
            "\n",
            "   vehicle_class  total_claim_amount  \n",
            "0  Four-Door Car            2.704934  \n",
            "  customer       state gender education customer_lifetime_value  income  \\\n",
            "0  RB50392  Washington    NaN    Master                     NaN     0.0   \n",
            "\n",
            "   monthly_premium_auto number_of_open_complaints    policy_type  \\\n",
            "0                1000.0                    1/0/00  Personal Auto   \n",
            "\n",
            "   vehicle_class  total_claim_amount  \n",
            "0  Four-Door Car            2.704934  \n"
          ]
        }
      ],
      "source": [
        "import pandas as pd\n",
        "\n",
        "url = \"https://raw.githubusercontent.com/data-bootcamp-v4/data/main/file1.csv\"\n",
        "df = pd.read_csv(url)\n",
        "\n",
        "print(df.head(1))\n",
        "# Column names should be lowercase, then print just the first 5 columns of the DataFrame\n",
        "df.columns = df.columns.str.lower()\n",
        "print(df.head(1))\n",
        "# White spaces in column names should be replaced by _ \n",
        "df.columns = df.columns.str.replace(' ', '_')\n",
        "print(df.head(1))\n",
        "# st should be replace for state\n",
        "db = df.rename(columns={'st': 'state'})\n",
        "# Now overwrite new values to all dataframe\n",
        "df = db\n",
        "print(db.head(1))"
      ]
    },
    {
      "cell_type": "markdown",
      "id": "9cb501ec-36ff-4589-b872-6252bb150316",
      "metadata": {
        "id": "9cb501ec-36ff-4589-b872-6252bb150316"
      },
      "source": [
        "## Exercise 2: Cleaning invalid Values"
      ]
    },
    {
      "cell_type": "markdown",
      "id": "771fdcf3-8e20-4b06-9c24-3a93ba2b0909",
      "metadata": {
        "id": "771fdcf3-8e20-4b06-9c24-3a93ba2b0909"
      },
      "source": [
        "The dataset contains columns with inconsistent and incorrect values that could affect the accuracy of our analysis. Therefore, we need to clean these columns to ensure that they only contain valid data.\n",
        "\n",
        "Note that this exercise will focus only on cleaning inconsistent values and will not involve handling null values (NaN or None).\n",
        "\n",
        "*Hint*:\n",
        "- *Gender column contains various inconsistent values such as \"F\", \"M\", \"Femal\", \"Male\", \"female\", which need to be standardized, for example, to \"M\" and \"F\".*\n",
        "- *State abbreviations be can replaced with its full name, for example \"AZ\": \"Arizona\", \"Cali\": \"California\", \"WA\": \"Washington\"*\n",
        "- *In education, \"Bachelors\" could be replaced by \"Bachelor\"*\n",
        "- *In Customer Lifetime Value, delete the `%` character*\n",
        "- *In vehicle class, \"Sports Car\", \"Luxury SUV\" and \"Luxury Car\" could be replaced by \"Luxury\"*"
      ]
    },
    {
      "cell_type": "code",
      "execution_count": 49,
      "id": "9071b3c2",
      "metadata": {},
      "outputs": [
        {
          "data": {
            "text/plain": [
              "gender\n",
              "F         0.479036\n",
              "M         0.432914\n",
              "Male      0.040881\n",
              "female    0.029350\n",
              "Femal     0.017820\n",
              "Name: proportion, dtype: float64"
            ]
          },
          "execution_count": 49,
          "metadata": {},
          "output_type": "execute_result"
        }
      ],
      "source": [
        "# Analyse Gender Column looking for missing values, duplicates and data types, frequencies\n",
        "df['gender'].isnull().sum()\n",
        "df['gender'].value_counts()\n",
        "df['gender'].value_counts(normalize=True)"
      ]
    },
    {
      "cell_type": "code",
      "execution_count": 50,
      "id": "da861c3f",
      "metadata": {},
      "outputs": [
        {
          "data": {
            "text/plain": [
              "gender\n",
              "F    0.526205\n",
              "M    0.473795\n",
              "Name: proportion, dtype: float64"
            ]
          },
          "execution_count": 50,
          "metadata": {},
          "output_type": "execute_result"
        }
      ],
      "source": [
        "# Replace Femal by F, Male by M, female by F\n",
        "df['gender'] = df['gender'].str.replace('Femal', 'F')\n",
        "df['gender'] = df['gender'].str.replace('Male', 'M')\n",
        "df['gender'] = df['gender'].str.replace('female', 'F')\n",
        "# Check\n",
        "df['gender'].isnull().sum()\n",
        "df['gender'].value_counts()\n",
        "df['gender'].value_counts(normalize=True)\n",
        "\n"
      ]
    },
    {
      "cell_type": "code",
      "execution_count": 51,
      "id": "3f8ee5cb-50ab-48af-8a9f-9a389804033c",
      "metadata": {
        "id": "3f8ee5cb-50ab-48af-8a9f-9a389804033c"
      },
      "outputs": [
        {
          "data": {
            "text/plain": [
              "state\n",
              "Oregon        0.298786\n",
              "California    0.197012\n",
              "Arizona       0.173669\n",
              "Cali          0.112045\n",
              "Nevada        0.091503\n",
              "Washington    0.075630\n",
              "WA            0.028011\n",
              "AZ            0.023343\n",
              "Name: proportion, dtype: float64"
            ]
          },
          "execution_count": 51,
          "metadata": {},
          "output_type": "execute_result"
        }
      ],
      "source": [
        "# Analyse State Column looking for missing values, duplicates and data types, frequencies\n",
        "df['state'].isnull().sum()\n",
        "df['state'].value_counts()\n",
        "df['state'].value_counts(normalize=True)"
      ]
    },
    {
      "cell_type": "code",
      "execution_count": 52,
      "id": "1f1ef367",
      "metadata": {},
      "outputs": [
        {
          "data": {
            "text/plain": [
              "state\n",
              "Oregon              0.298786\n",
              "Arizona             0.197012\n",
              "Californiafornia    0.197012\n",
              "California          0.112045\n",
              "Washington          0.103641\n",
              "Nevada              0.091503\n",
              "Name: proportion, dtype: float64"
            ]
          },
          "execution_count": 52,
          "metadata": {},
          "output_type": "execute_result"
        }
      ],
      "source": [
        "# Convert Cali to California, WA to Washington, AZ to Arizona\n",
        "df['state'] = df['state'].str.replace('Cali', 'California')\n",
        "df['state'] = df['state'].str.replace('WA', 'Washington')   \n",
        "df['state'] = df['state'].str.replace('AZ', 'Arizona')\n",
        "# Check\n",
        "df['state'].isnull().sum()\n",
        "df['state'].value_counts()    \n",
        "df['state'].value_counts(normalize=True)"
      ]
    },
    {
      "cell_type": "markdown",
      "id": "7ae98820",
      "metadata": {},
      "source": [
        "Why Californiafornia?"
      ]
    },
    {
      "cell_type": "markdown",
      "id": "85ff78ce-0174-4890-9db3-8048b7d7d2d0",
      "metadata": {
        "id": "85ff78ce-0174-4890-9db3-8048b7d7d2d0"
      },
      "source": [
        "## Exercise 3: Formatting data types"
      ]
    },
    {
      "cell_type": "markdown",
      "id": "b91c2cf8-79a2-4baf-9f65-ff2fb22270bd",
      "metadata": {
        "id": "b91c2cf8-79a2-4baf-9f65-ff2fb22270bd"
      },
      "source": [
        "The data types of many columns in the dataset appear to be incorrect. This could impact the accuracy of our analysis. To ensure accurate analysis, we need to correct the data types of these columns. Please update the data types of the columns as appropriate."
      ]
    },
    {
      "cell_type": "markdown",
      "id": "43e5d853-ff9e-43b2-9d92-aef2f78764f3",
      "metadata": {
        "id": "43e5d853-ff9e-43b2-9d92-aef2f78764f3"
      },
      "source": [
        "It is important to note that this exercise does not involve handling null values (NaN or None)."
      ]
    },
    {
      "cell_type": "markdown",
      "id": "329ca691-9196-4419-8969-3596746237a1",
      "metadata": {
        "id": "329ca691-9196-4419-8969-3596746237a1"
      },
      "source": [
        "*Hint*:\n",
        "- *Customer lifetime value should be numeric*\n",
        "- *Number of open complaints has an incorrect format. Look at the different values it takes with `unique()` and take the middle value. As an example, 1/5/00 should be 5. Number of open complaints is a string - remember you can use `split()` to deal with it and take the number you need. Finally, since it should be numeric, cast the column to be in its proper type.*"
      ]
    },
    {
      "cell_type": "code",
      "execution_count": 53,
      "id": "eb8f5991-73e9-405f-bf1c-6b7c589379a9",
      "metadata": {
        "id": "eb8f5991-73e9-405f-bf1c-6b7c589379a9"
      },
      "outputs": [],
      "source": [
        "# I'm making Customer lifetime value numeric\n",
        "df['customer_lifetime_value'] = pd.to_numeric(df['customer_lifetime_value'], errors='coerce')"
      ]
    },
    {
      "cell_type": "code",
      "execution_count": 54,
      "id": "78d9d5ee",
      "metadata": {},
      "outputs": [
        {
          "data": {
            "text/plain": [
              "array(['1/0/00', '1/2/00', '1/1/00', '1/3/00', '1/5/00', '1/4/00', nan],\n",
              "      dtype=object)"
            ]
          },
          "execution_count": 54,
          "metadata": {},
          "output_type": "execute_result"
        }
      ],
      "source": [
        "# Number of open complaints values unique()\n",
        "df['number_of_open_complaints'].unique()"
      ]
    },
    {
      "cell_type": "code",
      "execution_count": 55,
      "id": "1ff71e9e",
      "metadata": {},
      "outputs": [
        {
          "data": {
            "text/plain": [
              "array(['0', '2', '1', '3', '5', '4', nan], dtype=object)"
            ]
          },
          "execution_count": 55,
          "metadata": {},
          "output_type": "execute_result"
        }
      ],
      "source": [
        "# Now for this one I'm going to change 1/0/00 to 0, 1/1/00 to 1, 1/2/00 to 2, 1/3/00 to 3, 1/4/00 to 4, 1/5/00 to 5\n",
        "df['number_of_open_complaints'] = df['number_of_open_complaints'].str.replace('1/0/00', '0')\n",
        "df['number_of_open_complaints'] = df['number_of_open_complaints'].str.replace('1/1/00', '1')\n",
        "df['number_of_open_complaints'] = df['number_of_open_complaints'].str.replace('1/2/00', '2')\n",
        "df['number_of_open_complaints'] = df['number_of_open_complaints'].str.replace('1/3/00', '3')\n",
        "df['number_of_open_complaints'] = df['number_of_open_complaints'].str.replace('1/4/00', '4')\n",
        "df['number_of_open_complaints'] = df['number_of_open_complaints'].str.replace('1/5/00', '5')\n",
        "# Check\n",
        "df['number_of_open_complaints'].unique()"
      ]
    },
    {
      "cell_type": "code",
      "execution_count": 56,
      "id": "50c6fba5",
      "metadata": {},
      "outputs": [
        {
          "name": "stdout",
          "output_type": "stream",
          "text": [
            "float64\n"
          ]
        },
        {
          "data": {
            "text/plain": [
              "array([ 0.,  2.,  1.,  3.,  5.,  4., nan])"
            ]
          },
          "execution_count": 56,
          "metadata": {},
          "output_type": "execute_result"
        }
      ],
      "source": [
        "# Now I'll make it numeric\n",
        "df['number_of_open_complaints'] = pd.to_numeric(df['number_of_open_complaints'], errors='coerce')\n",
        "# Check is numeric\n",
        "print(df['number_of_open_complaints'].dtype)\n",
        "df['number_of_open_complaints'].unique()"
      ]
    },
    {
      "cell_type": "markdown",
      "id": "14c52e28-2d0c-4dd2-8bd5-3476e34fadc1",
      "metadata": {
        "id": "14c52e28-2d0c-4dd2-8bd5-3476e34fadc1"
      },
      "source": [
        "## Exercise 4: Dealing with Null values"
      ]
    },
    {
      "cell_type": "markdown",
      "id": "34b9a20f-7d32-4417-975e-1b4dfb0e16cd",
      "metadata": {
        "id": "34b9a20f-7d32-4417-975e-1b4dfb0e16cd"
      },
      "source": [
        "Identify any columns with null or missing values. Identify how many null values each column has. You can use the `isnull()` function in pandas to find columns with null values.\n",
        "\n",
        "Decide on a strategy for handling the null values. There are several options, including:\n",
        "\n",
        "- Drop the rows or columns with null values\n",
        "- Fill the null values with a specific value (such as the column mean or median for numerical variables, and mode for categorical variables)\n",
        "- Fill the null values with the previous or next value in the column\n",
        "- Fill the null values based on a more complex algorithm or model (note: we haven't covered this yet)\n",
        "\n",
        "Implement your chosen strategy to handle the null values. You can use the `fillna()` function in pandas to fill null values or `dropna()` function to drop null values.\n",
        "\n",
        "Verify that your strategy has successfully handled the null values. You can use the `isnull()` function again to check if there are still null values in the dataset.\n",
        "\n",
        "Remember to document your process and explain your reasoning for choosing a particular strategy for handling null values.\n",
        "\n",
        "After formatting data types, as a last step, convert all the numeric variables to integers."
      ]
    },
    {
      "cell_type": "code",
      "execution_count": 57,
      "id": "f184fc35-7831-4836-a0a5-e7f99e01b40e",
      "metadata": {
        "id": "f184fc35-7831-4836-a0a5-e7f99e01b40e"
      },
      "outputs": [
        {
          "name": "stdout",
          "output_type": "stream",
          "text": [
            "customer                     2937\n",
            "state                        2937\n",
            "gender                       3054\n",
            "education                    2937\n",
            "customer_lifetime_value      4008\n",
            "income                       2937\n",
            "monthly_premium_auto         2937\n",
            "number_of_open_complaints    2937\n",
            "policy_type                  2937\n",
            "vehicle_class                2937\n",
            "total_claim_amount           2937\n",
            "dtype: int64\n"
          ]
        },
        {
          "data": {
            "text/html": [
              "<div>\n",
              "<style scoped>\n",
              "    .dataframe tbody tr th:only-of-type {\n",
              "        vertical-align: middle;\n",
              "    }\n",
              "\n",
              "    .dataframe tbody tr th {\n",
              "        vertical-align: top;\n",
              "    }\n",
              "\n",
              "    .dataframe thead th {\n",
              "        text-align: right;\n",
              "    }\n",
              "</style>\n",
              "<table border=\"1\" class=\"dataframe\">\n",
              "  <thead>\n",
              "    <tr style=\"text-align: right;\">\n",
              "      <th></th>\n",
              "      <th>customer</th>\n",
              "      <th>state</th>\n",
              "      <th>gender</th>\n",
              "      <th>education</th>\n",
              "      <th>customer_lifetime_value</th>\n",
              "      <th>income</th>\n",
              "      <th>monthly_premium_auto</th>\n",
              "      <th>number_of_open_complaints</th>\n",
              "      <th>policy_type</th>\n",
              "      <th>vehicle_class</th>\n",
              "      <th>total_claim_amount</th>\n",
              "    </tr>\n",
              "  </thead>\n",
              "  <tbody>\n",
              "    <tr>\n",
              "      <th>1071</th>\n",
              "      <td>NaN</td>\n",
              "      <td>NaN</td>\n",
              "      <td>NaN</td>\n",
              "      <td>NaN</td>\n",
              "      <td>NaN</td>\n",
              "      <td>NaN</td>\n",
              "      <td>NaN</td>\n",
              "      <td>NaN</td>\n",
              "      <td>NaN</td>\n",
              "      <td>NaN</td>\n",
              "      <td>NaN</td>\n",
              "    </tr>\n",
              "    <tr>\n",
              "      <th>1072</th>\n",
              "      <td>NaN</td>\n",
              "      <td>NaN</td>\n",
              "      <td>NaN</td>\n",
              "      <td>NaN</td>\n",
              "      <td>NaN</td>\n",
              "      <td>NaN</td>\n",
              "      <td>NaN</td>\n",
              "      <td>NaN</td>\n",
              "      <td>NaN</td>\n",
              "      <td>NaN</td>\n",
              "      <td>NaN</td>\n",
              "    </tr>\n",
              "    <tr>\n",
              "      <th>1073</th>\n",
              "      <td>NaN</td>\n",
              "      <td>NaN</td>\n",
              "      <td>NaN</td>\n",
              "      <td>NaN</td>\n",
              "      <td>NaN</td>\n",
              "      <td>NaN</td>\n",
              "      <td>NaN</td>\n",
              "      <td>NaN</td>\n",
              "      <td>NaN</td>\n",
              "      <td>NaN</td>\n",
              "      <td>NaN</td>\n",
              "    </tr>\n",
              "    <tr>\n",
              "      <th>1074</th>\n",
              "      <td>NaN</td>\n",
              "      <td>NaN</td>\n",
              "      <td>NaN</td>\n",
              "      <td>NaN</td>\n",
              "      <td>NaN</td>\n",
              "      <td>NaN</td>\n",
              "      <td>NaN</td>\n",
              "      <td>NaN</td>\n",
              "      <td>NaN</td>\n",
              "      <td>NaN</td>\n",
              "      <td>NaN</td>\n",
              "    </tr>\n",
              "    <tr>\n",
              "      <th>1075</th>\n",
              "      <td>NaN</td>\n",
              "      <td>NaN</td>\n",
              "      <td>NaN</td>\n",
              "      <td>NaN</td>\n",
              "      <td>NaN</td>\n",
              "      <td>NaN</td>\n",
              "      <td>NaN</td>\n",
              "      <td>NaN</td>\n",
              "      <td>NaN</td>\n",
              "      <td>NaN</td>\n",
              "      <td>NaN</td>\n",
              "    </tr>\n",
              "  </tbody>\n",
              "</table>\n",
              "</div>"
            ],
            "text/plain": [
              "     customer state gender education  customer_lifetime_value  income  \\\n",
              "1071      NaN   NaN    NaN       NaN                      NaN     NaN   \n",
              "1072      NaN   NaN    NaN       NaN                      NaN     NaN   \n",
              "1073      NaN   NaN    NaN       NaN                      NaN     NaN   \n",
              "1074      NaN   NaN    NaN       NaN                      NaN     NaN   \n",
              "1075      NaN   NaN    NaN       NaN                      NaN     NaN   \n",
              "\n",
              "      monthly_premium_auto  number_of_open_complaints policy_type  \\\n",
              "1071                   NaN                        NaN         NaN   \n",
              "1072                   NaN                        NaN         NaN   \n",
              "1073                   NaN                        NaN         NaN   \n",
              "1074                   NaN                        NaN         NaN   \n",
              "1075                   NaN                        NaN         NaN   \n",
              "\n",
              "     vehicle_class  total_claim_amount  \n",
              "1071           NaN                 NaN  \n",
              "1072           NaN                 NaN  \n",
              "1073           NaN                 NaN  \n",
              "1074           NaN                 NaN  \n",
              "1075           NaN                 NaN  "
            ]
          },
          "execution_count": 57,
          "metadata": {},
          "output_type": "execute_result"
        }
      ],
      "source": [
        "# Columns with null or missing values\n",
        "print(df.isnull().sum())\n",
        "# Print first 20 rows of null values for customer\n",
        "df[df['customer'].isnull()].head(5)"
      ]
    },
    {
      "cell_type": "code",
      "execution_count": 58,
      "id": "f2a17ded",
      "metadata": {},
      "outputs": [
        {
          "name": "stdout",
          "output_type": "stream",
          "text": [
            "customer                        0\n",
            "state                           0\n",
            "gender                        117\n",
            "education                       0\n",
            "customer_lifetime_value      1071\n",
            "income                          0\n",
            "monthly_premium_auto            0\n",
            "number_of_open_complaints       0\n",
            "policy_type                     0\n",
            "vehicle_class                   0\n",
            "total_claim_amount              0\n",
            "dtype: int64\n"
          ]
        },
        {
          "data": {
            "text/html": [
              "<div>\n",
              "<style scoped>\n",
              "    .dataframe tbody tr th:only-of-type {\n",
              "        vertical-align: middle;\n",
              "    }\n",
              "\n",
              "    .dataframe tbody tr th {\n",
              "        vertical-align: top;\n",
              "    }\n",
              "\n",
              "    .dataframe thead th {\n",
              "        text-align: right;\n",
              "    }\n",
              "</style>\n",
              "<table border=\"1\" class=\"dataframe\">\n",
              "  <thead>\n",
              "    <tr style=\"text-align: right;\">\n",
              "      <th></th>\n",
              "      <th>customer</th>\n",
              "      <th>state</th>\n",
              "      <th>gender</th>\n",
              "      <th>education</th>\n",
              "      <th>customer_lifetime_value</th>\n",
              "      <th>income</th>\n",
              "      <th>monthly_premium_auto</th>\n",
              "      <th>number_of_open_complaints</th>\n",
              "      <th>policy_type</th>\n",
              "      <th>vehicle_class</th>\n",
              "      <th>total_claim_amount</th>\n",
              "    </tr>\n",
              "  </thead>\n",
              "  <tbody>\n",
              "  </tbody>\n",
              "</table>\n",
              "</div>"
            ],
            "text/plain": [
              "Empty DataFrame\n",
              "Columns: [customer, state, gender, education, customer_lifetime_value, income, monthly_premium_auto, number_of_open_complaints, policy_type, vehicle_class, total_claim_amount]\n",
              "Index: []"
            ]
          },
          "execution_count": 58,
          "metadata": {},
          "output_type": "execute_result"
        }
      ],
      "source": [
        "# Drop all rows with null of missing values for customer since all others are NaN\n",
        "df.dropna(subset=['customer'], inplace=True)\n",
        "# Check\n",
        "print(df.isnull().sum())\n",
        "df[df['customer'].isnull()].head(5)"
      ]
    },
    {
      "cell_type": "code",
      "execution_count": 59,
      "id": "e1374e01",
      "metadata": {},
      "outputs": [
        {
          "name": "stdout",
          "output_type": "stream",
          "text": [
            "count    0.0\n",
            "mean     NaN\n",
            "std      NaN\n",
            "min      NaN\n",
            "25%      NaN\n",
            "50%      NaN\n",
            "75%      NaN\n",
            "max      NaN\n",
            "Name: customer_lifetime_value, dtype: float64\n"
          ]
        }
      ],
      "source": [
        "# Impute missing values for gender using mode\n",
        "gender_mode = df['gender'].mode()[0]\n",
        "df['gender'] = df['gender'].fillna(gender_mode)\n",
        "\n",
        "# Calculate the mean of the not missing and null values\n",
        "mean_clv = df['customer_lifetime_value'].dropna().mean()\n",
        "\n",
        "# Fill missing and null values with the mean\n",
        "df['customer_lifetime_value'] = df['customer_lifetime_value'].fillna(mean_clv)\n",
        "\n",
        "\n",
        "# Check for statisticts for that column\n",
        "print(df['customer_lifetime_value'].describe())\n"
      ]
    },
    {
      "cell_type": "markdown",
      "id": "98416351-e999-4156-9834-9b00a311adfa",
      "metadata": {
        "id": "98416351-e999-4156-9834-9b00a311adfa"
      },
      "source": [
        "## Exercise 5: Dealing with duplicates"
      ]
    },
    {
      "cell_type": "markdown",
      "id": "ea0816a7-a18e-4d4c-b667-a8452a800bd1",
      "metadata": {
        "id": "ea0816a7-a18e-4d4c-b667-a8452a800bd1"
      },
      "source": [
        "Use the `.duplicated()` method to identify any duplicate rows in the dataframe.\n",
        "\n",
        "Decide on a strategy for handling the duplicates. Options include:\n",
        "- Dropping all duplicate rows\n",
        "- Keeping only the first occurrence of each duplicated row\n",
        "- Keeping only the last occurrence of each duplicated row\n",
        "- Dropping duplicates based on a subset of columns\n",
        "- Dropping duplicates based on a specific column\n",
        "\n",
        "Implement your chosen strategy using the `drop_duplicates()` function.\n",
        "\n",
        "Verify that your strategy has successfully handled the duplicates by checking for duplicates again using `.duplicated()`.\n",
        "\n",
        "Remember to document your process and explain your reasoning for choosing a particular strategy for handling duplicates.\n",
        "\n",
        "Save the cleaned dataset to a new CSV file.\n",
        "\n",
        "*Hint*: *after dropping duplicates, reset the index to ensure consistency*."
      ]
    },
    {
      "cell_type": "code",
      "execution_count": 60,
      "id": "1929362c-47ed-47cb-baca-358b78d401a0",
      "metadata": {
        "id": "1929362c-47ed-47cb-baca-358b78d401a0"
      },
      "outputs": [],
      "source": [
        "# Use the .duplicate() method to check for duplicates\n",
        "df.duplicated().sum()\n",
        "# Drop duplicates\n",
        "df.drop_duplicates(inplace=True)"
      ]
    },
    {
      "cell_type": "markdown",
      "id": "60840701-4783-40e2-b4d8-55303f9100c9",
      "metadata": {
        "id": "60840701-4783-40e2-b4d8-55303f9100c9"
      },
      "source": [
        "# Bonus: Challenge 2: creating functions on a separate `py` file"
      ]
    },
    {
      "cell_type": "markdown",
      "id": "9d1adb3a-17cf-4899-8041-da21a4337fb4",
      "metadata": {
        "id": "9d1adb3a-17cf-4899-8041-da21a4337fb4"
      },
      "source": [
        "Put all the data cleaning and formatting steps into functions, and create a main function that performs all the cleaning and formatting.\n",
        "\n",
        "Write these functions in separate .py file(s). By putting these steps into functions, we can make the code more modular and easier to maintain."
      ]
    },
    {
      "cell_type": "markdown",
      "id": "0e170dc2-b62c-417a-8248-e63ed18a70c4",
      "metadata": {
        "id": "0e170dc2-b62c-417a-8248-e63ed18a70c4"
      },
      "source": [
        "*Hint: autoreload module is a utility module in Python that allows you to automatically reload modules in the current session when changes are made to the source code. This can be useful in situations where you are actively developing code and want to see the effects of changes you make without having to constantly restart the Python interpreter or Jupyter Notebook kernel.*"
      ]
    },
    {
      "cell_type": "code",
      "execution_count": null,
      "id": "a52c6dfc-cd11-4d01-bda4-f719fa33e9a4",
      "metadata": {
        "id": "a52c6dfc-cd11-4d01-bda4-f719fa33e9a4"
      },
      "outputs": [
        {
          "name": "stdout",
          "output_type": "stream",
          "text": [
            "  customer          st gender             education  customer_lifetime_value  \\\n",
            "0  RB50392  Washington   mode                Master                      NaN   \n",
            "1  QZ44356     Arizona      F              Bachelor                697953.59   \n",
            "2  AI49188      Nevada      F              Bachelor               1288743.17   \n",
            "3  WW63253  California      M              Bachelor                764586.18   \n",
            "4  GA49547  Washington      M  High School or Below                536307.65   \n",
            "\n",
            "    income  monthly_premium_auto number_of_open_complaints     policy_type  \\\n",
            "0      0.0                1000.0                    1/0/00   Personal Auto   \n",
            "1      0.0                  94.0                    1/0/00   Personal Auto   \n",
            "2  48767.0                 108.0                    1/0/00   Personal Auto   \n",
            "3      0.0                 106.0                    1/0/00  Corporate Auto   \n",
            "4  36357.0                  68.0                    1/0/00   Personal Auto   \n",
            "\n",
            "   vehicle_class  total_claim_amount  \n",
            "0  Four-Door Car            2.704934  \n",
            "1  Four-Door Car         1131.464935  \n",
            "2   Two-Door Car          566.472247  \n",
            "3            SUV          529.881344  \n",
            "4  Four-Door Car           17.269323  \n"
          ]
        }
      ],
      "source": [
        "# Put all data cleaning and formatting steps into functions and create a main function that performs all cleaning and formating, separate by .py file(s) \n",
        "\n",
        "# Data Loader\n",
        "def load_data(url):\n",
        "    # Load data from URL into a Pandas DataFrame\n",
        "    df = pd.read_csv(url)\n",
        "    return df\n",
        "\n",
        "# Data Cleaner\n",
        "def clean_column_names(df):\n",
        "    # Clean column names by converting to lowercase and replacing spaces with underscores\n",
        "    df.columns = [col.lower().replace(' ', '_') for col in df.columns]\n",
        "    return df\n",
        "\n",
        "def replace_state_values(df):\n",
        "    # Replace specific values in the state column\n",
        "    df['st'] = df['st'].replace({'Cali': 'California', 'WA': 'Washington'})\n",
        "    return df\n",
        "\n",
        "def replace_gender_values(df):\n",
        "    # Replace specific values in the gender column\n",
        "    df['gender'] = df['gender'].replace({'Femal': 'F', 'Male': 'M'})\n",
        "    return df\n",
        "\n",
        "# Data Formatter\n",
        "def convert_to_numeric(df, column):\n",
        "    # Remove percentage sign from the column\n",
        "    df[column] = df[column].str.replace('%', '')\n",
        "    \n",
        "    # Convert a specified column to numeric values using pd.to_numeric\n",
        "    df[column] = pd.to_numeric(df[column])\n",
        "    return df#\n",
        "\n",
        "def impute_missing_values(df, column, strategy):\n",
        "    # Impute missing values in a specified column using a specified strategy\n",
        "    df[column] = df[column].fillna(strategy)\n",
        "    return df\n",
        "\n",
        "# Data Processor\n",
        "def drop_duplicates(df):\n",
        "    # Drop duplicate rows from the DataFrame\n",
        "    df = df.drop_duplicates()\n",
        "    return df\n",
        "\n",
        "def drop_null_values(df, column):\n",
        "    # Drop rows with null values in a specified column\n",
        "    df = df.dropna(subset=[column])\n",
        "    return df\n",
        "\n",
        "# Main Function\n",
        "def main():\n",
        "    url = \"https://raw.githubusercontent.com/data-bootcamp-v4/data/main/file1.csv\"\n",
        "    df = load_data(url)\n",
        "    df = clean_column_names(df)\n",
        "    df = replace_state_values(df)\n",
        "    df = replace_gender_values(df)\n",
        "    df = convert_to_numeric(df, 'customer_lifetime_value')\n",
        "    df = impute_missing_values(df, 'gender', 'mode')\n",
        "    df = drop_duplicates(df)\n",
        "    df = drop_null_values(df, 'customer')\n",
        "    return df\n",
        "\n",
        "# Run the main function\n",
        "if __name__ == \"__main__\":\n",
        "    df = main()\n",
        "    print(df.head())"
      ]
    },
    {
      "cell_type": "markdown",
      "id": "80f846bb-3f5e-4ca2-96c0-900728daca5a",
      "metadata": {
        "id": "80f846bb-3f5e-4ca2-96c0-900728daca5a",
        "tags": []
      },
      "source": [
        "# Bonus: Challenge 3: Analyzing Clean and Formated Data"
      ]
    },
    {
      "cell_type": "markdown",
      "id": "9021630e-cc90-446c-b5bd-264d6c864207",
      "metadata": {
        "id": "9021630e-cc90-446c-b5bd-264d6c864207"
      },
      "source": [
        "You have been tasked with analyzing the data to identify potential areas for improving customer retention and profitability. Your goal is to identify customers with a high policy claim amount and a low customer lifetime value.\n",
        "\n",
        "In the Pandas Lab, we only looked at high policy claim amounts because we couldn't look into low customer lifetime values. If we had tried to work with that column, we wouldn't have been able to because customer lifetime value wasn't clean and in its proper format. So after cleaning and formatting the data, let's get some more interesting insights!\n",
        "\n",
        "Instructions:\n",
        "\n",
        "- Review the statistics again for total claim amount and customer lifetime value to gain an understanding of the data.\n",
        "- To identify potential areas for improving customer retention and profitability, we want to focus on customers with a high policy claim amount and a low customer lifetime value. Consider customers with a high policy claim amount to be those in the top 25% of the total claim amount, and clients with a low customer lifetime value to be those in the bottom 25% of the customer lifetime value. Create a pandas DataFrame object that contains information about customers with a policy claim amount greater than the 75th percentile and a customer lifetime value in the bottom 25th percentile.\n",
        "- Use DataFrame methods to calculate summary statistics about the high policy claim amount and low customer lifetime value data. To do so, select both columns of the dataframe simultaneously and pass it to the `.describe()` method. This will give you descriptive statistics, such as mean, median, standard deviation, minimum and maximum values for both columns at the same time, allowing you to compare and analyze their characteristics."
      ]
    },
    {
      "cell_type": "code",
      "execution_count": 63,
      "id": "211e82b5-461a-4d6f-8a23-4deccb84173c",
      "metadata": {
        "id": "211e82b5-461a-4d6f-8a23-4deccb84173c"
      },
      "outputs": [
        {
          "name": "stdout",
          "output_type": "stream",
          "text": [
            "count    1071.000000\n",
            "mean      404.986909\n",
            "std       293.027260\n",
            "min         0.382107\n",
            "25%       202.157702\n",
            "50%       354.729129\n",
            "75%       532.800000\n",
            "max      2893.239678\n",
            "Name: total_claim_amount, dtype: float64\n",
            "count    1.068000e+03\n",
            "mean     7.936903e+05\n",
            "std      6.434784e+05\n",
            "min      2.004351e+05\n",
            "25%      4.034080e+05\n",
            "50%      5.881742e+05\n",
            "75%      8.962872e+05\n",
            "max      5.816655e+06\n",
            "Name: customer_lifetime_value, dtype: float64\n"
          ]
        }
      ],
      "source": [
        "# Review the statistics again for total claim amount and customer lifetime value after data cleaning and formatting\n",
        "print(df['total_claim_amount'].describe())\n",
        "print(df['customer_lifetime_value'].describe())"
      ]
    },
    {
      "cell_type": "code",
      "execution_count": 65,
      "id": "7f655cff",
      "metadata": {},
      "outputs": [
        {
          "name": "stdout",
          "output_type": "stream",
          "text": [
            "     customer          st gender             education  \\\n",
            "17    OE15005  California   mode               College   \n",
            "23    TZ98966      Nevada   mode              Bachelor   \n",
            "26    US89481  California   mode              Bachelor   \n",
            "38    CM61827      Oregon   mode              Bachelor   \n",
            "42    IL19217  California   mode              Bachelor   \n",
            "62    FG63582      Oregon   mode              Bachelor   \n",
            "135   MS41162          AZ   mode  High School or Below   \n",
            "140   DS81757      Oregon      M               College   \n",
            "158   KA61892     Arizona      M               College   \n",
            "160   ND87334  California      M  High School or Below   \n",
            "170   TS19868  California      M               College   \n",
            "184   AB13432  California      M              Bachelor   \n",
            "204   FL34139  California      M  High School or Below   \n",
            "250   IA63417     Arizona      F  High School or Below   \n",
            "269   VZ51506     Arizona      F  High School or Below   \n",
            "279   OH60605      Oregon      F  High School or Below   \n",
            "304   RR77985      Oregon      F              Bachelor   \n",
            "388   JF36291  California      M               College   \n",
            "415   ZF84449      Oregon      F               College   \n",
            "448   NL93182      Nevada      M              Bachelor   \n",
            "450   WE68644      Oregon      F              Bachelor   \n",
            "467   AU96286      Oregon      F              Bachelor   \n",
            "486   FY51713          AZ      F              Bachelor   \n",
            "500   XN11823      Nevada      F              Bachelor   \n",
            "502   PX17116      Nevada      M               College   \n",
            "565   XS12556  California      F               College   \n",
            "590   UK41984     Arizona      F                Doctor   \n",
            "593   ZK21724      Oregon      F  High School or Below   \n",
            "638   DM95829  California      M               College   \n",
            "645   JA41698      Nevada      M              Bachelor   \n",
            "669   ED50963  California      F  High School or Below   \n",
            "709   NZ15548      Oregon      M              Bachelor   \n",
            "788   TE13577      Oregon      F               College   \n",
            "853   TV25678  Washington      M               College   \n",
            "891   KJ87930  California      F              Bachelor   \n",
            "908   XM72420     Arizona      F  High School or Below   \n",
            "949   TD10493      Oregon      F  High School or Below   \n",
            "1019  OT52034  California      M              Bachelor   \n",
            "1022  UI73201  California      M               College   \n",
            "1068  GS98873     Arizona      F              Bachelor   \n",
            "\n",
            "      customer_lifetime_value   income  monthly_premium_auto  \\\n",
            "17                  394524.16  28855.0                 101.0   \n",
            "23                  245019.10      0.0                  73.0   \n",
            "26                  394637.21      0.0                 111.0   \n",
            "38                  309003.41      0.0                  90.0   \n",
            "42                  393900.64  60021.0                  99.0   \n",
            "62                  333976.49      0.0                  94.0   \n",
            "135                 402296.35      0.0                 117.0   \n",
            "140                 247012.12      0.0                  74.0   \n",
            "158                 387364.70  28142.0                 105.0   \n",
            "160                 228759.69      0.0                  63.0   \n",
            "170                 241313.97  27501.0                  63.0   \n",
            "184                 373583.81      0.0                 110.0   \n",
            "204                 368811.09      0.0                  63.0   \n",
            "250                 400151.91  19782.0                 108.0   \n",
            "269                 359531.29      0.0                 103.0   \n",
            "279                 365253.24  39679.0                  92.0   \n",
            "304                 288774.23      0.0                  80.0   \n",
            "388                 387364.70  28142.0                 105.0   \n",
            "415                 372672.80      0.0                 112.0   \n",
            "448                 254945.00      0.0                  78.0   \n",
            "450                 380392.18  20325.0                 100.0   \n",
            "467                 316765.84      0.0                  92.0   \n",
            "486                 357076.05  56168.0                  88.0   \n",
            "500                 376446.51  92600.0                  94.0   \n",
            "502                 362345.42      0.0                 111.0   \n",
            "565                 368309.99      0.0                 101.0   \n",
            "590                 383960.61      0.0                 112.0   \n",
            "593                 401654.20      0.0                 111.0   \n",
            "638                 252395.96  16244.0                  68.0   \n",
            "645                 309953.80      0.0                 102.0   \n",
            "669                 268886.40  32808.0                  68.0   \n",
            "709                 402381.44  41833.0                 103.0   \n",
            "788                 231973.59      0.0                  64.0   \n",
            "853                 354090.43      0.0                 101.0   \n",
            "891                 388650.48      0.0                 112.0   \n",
            "908                 391936.67  66676.0                  97.0   \n",
            "949                 289873.27      0.0                  96.0   \n",
            "1019                386477.68  24204.0                  99.0   \n",
            "1022                366737.50  62375.0                  92.0   \n",
            "1068                323912.47  16061.0                  88.0   \n",
            "\n",
            "     number_of_open_complaints     policy_type  vehicle_class  \\\n",
            "17                      1/0/00   Personal Auto            SUV   \n",
            "23                      1/3/00  Corporate Auto  Four-Door Car   \n",
            "26                      1/0/00   Personal Auto  Four-Door Car   \n",
            "38                      1/0/00   Personal Auto   Two-Door Car   \n",
            "42                      1/0/00   Personal Auto  Four-Door Car   \n",
            "62                      1/0/00   Personal Auto   Two-Door Car   \n",
            "135                     1/0/00   Personal Auto            SUV   \n",
            "140                     1/0/00   Personal Auto   Two-Door Car   \n",
            "158                     1/0/00   Personal Auto     Sports Car   \n",
            "160                     1/0/00  Corporate Auto   Two-Door Car   \n",
            "170                     1/0/00   Personal Auto  Four-Door Car   \n",
            "184                     1/0/00   Personal Auto            SUV   \n",
            "204                     1/3/00   Personal Auto  Four-Door Car   \n",
            "250                     1/0/00   Personal Auto   Two-Door Car   \n",
            "269                     1/0/00  Corporate Auto     Sports Car   \n",
            "279                     1/0/00   Personal Auto   Two-Door Car   \n",
            "304                     1/0/00   Personal Auto  Four-Door Car   \n",
            "388                     1/0/00   Personal Auto     Sports Car   \n",
            "415                     1/1/00    Special Auto     Sports Car   \n",
            "448                     1/0/00  Corporate Auto  Four-Door Car   \n",
            "450                     1/0/00   Personal Auto     Sports Car   \n",
            "467                     1/0/00  Corporate Auto  Four-Door Car   \n",
            "486                     1/0/00   Personal Auto  Four-Door Car   \n",
            "500                     1/0/00  Corporate Auto   Two-Door Car   \n",
            "502                     1/2/00  Corporate Auto            SUV   \n",
            "565                     1/0/00  Corporate Auto     Sports Car   \n",
            "590                     1/2/00   Personal Auto            SUV   \n",
            "593                     1/0/00   Personal Auto            SUV   \n",
            "638                     1/0/00   Personal Auto   Two-Door Car   \n",
            "645                     1/5/00  Corporate Auto            SUV   \n",
            "669                     1/1/00   Personal Auto  Four-Door Car   \n",
            "709                     1/0/00   Personal Auto  Four-Door Car   \n",
            "788                     1/0/00   Personal Auto  Four-Door Car   \n",
            "853                     1/0/00   Personal Auto            SUV   \n",
            "891                     1/0/00  Corporate Auto            SUV   \n",
            "908                     1/0/00   Personal Auto  Four-Door Car   \n",
            "949                     1/4/00   Personal Auto  Four-Door Car   \n",
            "1019                    1/1/00   Personal Auto  Four-Door Car   \n",
            "1022                    1/0/00   Personal Auto   Two-Door Car   \n",
            "1068                    1/0/00   Personal Auto  Four-Door Car   \n",
            "\n",
            "      total_claim_amount  \n",
            "17            647.442031  \n",
            "23            554.376763  \n",
            "26            799.200000  \n",
            "38            648.000000  \n",
            "42            882.871945  \n",
            "62            863.327324  \n",
            "135           975.107098  \n",
            "140           721.242206  \n",
            "158           701.708239  \n",
            "160           679.368378  \n",
            "170           542.319401  \n",
            "184           792.000000  \n",
            "204           669.682001  \n",
            "250           773.470977  \n",
            "269           741.600000  \n",
            "279           641.388616  \n",
            "304           676.944023  \n",
            "388           701.708239  \n",
            "415           806.400000  \n",
            "448           845.654042  \n",
            "450           668.293970  \n",
            "467           662.400000  \n",
            "486           614.675906  \n",
            "500           842.437850  \n",
            "502          1171.931170  \n",
            "565           564.466556  \n",
            "590           537.600000  \n",
            "593           799.200000  \n",
            "638           623.223617  \n",
            "645           862.762957  \n",
            "669           541.695658  \n",
            "709           643.826716  \n",
            "788           632.715382  \n",
            "853           727.200000  \n",
            "891          1185.988301  \n",
            "908           558.099357  \n",
            "949           691.200000  \n",
            "1019          707.303416  \n",
            "1022          618.630955  \n",
            "1068          633.600000  \n"
          ]
        }
      ],
      "source": [
        "# Create a pandas DataFrame object that contains information about customers with a policy claim amount greater than the 75th percentile and a customer lifetime value in the bottom 25th percentile.\n",
        "df = df[(df['total_claim_amount'] > df['total_claim_amount'].quantile(0.75)) & (df['customer_lifetime_value'] < df['customer_lifetime_value'].quantile(0.25))]\n",
        "\n",
        "# Print the resulting DataFrame\n",
        "print(df)"
      ]
    },
    {
      "cell_type": "code",
      "execution_count": 66,
      "id": "3ed86bac",
      "metadata": {},
      "outputs": [
        {
          "name": "stdout",
          "output_type": "stream",
          "text": [
            "       total_claim_amount  customer_lifetime_value\n",
            "count           40.000000                40.000000\n",
            "mean           723.776577            341577.910000\n",
            "std            149.280606             56921.472027\n",
            "min            537.600000            228759.690000\n",
            "25%            633.378846            304220.875000\n",
            "50%            685.284189            365995.370000\n",
            "75%            799.200000            387364.700000\n",
            "max           1185.988301            402381.440000\n"
          ]
        }
      ],
      "source": [
        "summary_stats = df[['total_claim_amount', 'customer_lifetime_value']].describe()\n",
        "print(summary_stats)"
      ]
    }
  ],
  "metadata": {
    "colab": {
      "provenance": []
    },
    "kernelspec": {
      "display_name": "base",
      "language": "python",
      "name": "python3"
    },
    "language_info": {
      "codemirror_mode": {
        "name": "ipython",
        "version": 3
      },
      "file_extension": ".py",
      "mimetype": "text/x-python",
      "name": "python",
      "nbconvert_exporter": "python",
      "pygments_lexer": "ipython3",
      "version": "3.13.5"
    }
  },
  "nbformat": 4,
  "nbformat_minor": 5
}
